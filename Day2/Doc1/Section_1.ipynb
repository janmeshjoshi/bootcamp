{
 "cells": [
  {
   "metadata": {},
   "cell_type": "markdown",
   "source": [
    "# This is a sample Jupyter Notebook\n",
    "\n",
    "Below is an example of a code cell. \n",
    "Put your cursor into the cell and press Shift+Enter to execute it and select the next one, or click 'Run Cell' button.\n",
    "\n",
    "Press Double Shift to search everywhere for classes, files, tool windows, actions, and settings.\n",
    "\n",
    "To learn more about Jupyter Notebooks in PyCharm, see [help](https://www.jetbrains.com/help/pycharm/ipython-notebook-support.html).\n",
    "For an overview of PyCharm, go to Help -> Learn IDE features or refer to [our documentation](https://www.jetbrains.com/help/pycharm/getting-started.html)."
   ],
   "id": "8a77807f92f26ee"
  },
  {
   "metadata": {},
   "cell_type": "markdown",
   "source": "### List Operations",
   "id": "23ab2a62b908bc40"
  },
  {
   "metadata": {
    "ExecuteTime": {
     "end_time": "2025-05-06T20:12:20.813062Z",
     "start_time": "2025-05-06T20:12:20.795764Z"
    }
   },
   "cell_type": "code",
   "source": [
    "a = [5, 3, 8]\n",
    "a.append(2)\n",
    "a.remove(3)\n",
    "a.sort()\n",
    "print(a)"
   ],
   "id": "fbc121e30a2defb3",
   "outputs": [
    {
     "name": "stdout",
     "output_type": "stream",
     "text": [
      "[2, 5, 8]\n"
     ]
    }
   ],
   "execution_count": 1
  },
  {
   "metadata": {},
   "cell_type": "markdown",
   "source": "### List Slicing",
   "id": "6551cf66d2a98cbe"
  },
  {
   "metadata": {
    "ExecuteTime": {
     "end_time": "2025-05-06T20:15:47.168338Z",
     "start_time": "2025-05-06T20:15:47.147554Z"
    }
   },
   "cell_type": "code",
   "source": [
    "lst = [1, 2, 3, 4, 5, 6, 7]\n",
    "mid = lst[2:5]\n",
    "print(mid)"
   ],
   "id": "4ad84cb70563bca1",
   "outputs": [
    {
     "name": "stdout",
     "output_type": "stream",
     "text": [
      "[3, 4, 5]\n"
     ]
    }
   ],
   "execution_count": 2
  },
  {
   "metadata": {},
   "cell_type": "markdown",
   "source": "### List Copying Pitfall",
   "id": "af46aedb1851edba"
  },
  {
   "metadata": {
    "ExecuteTime": {
     "end_time": "2025-05-06T20:18:00.329734Z",
     "start_time": "2025-05-06T20:18:00.310898Z"
    }
   },
   "cell_type": "code",
   "source": [
    "b = [1,2,4]\n",
    "b_shallow = b\n",
    "b_deep = b[:]\n",
    "\n",
    "b[0] = 89\n",
    "print(b_shallow)\n",
    "print(b_deep)"
   ],
   "id": "23c5a4ec429bdefb",
   "outputs": [
    {
     "name": "stdout",
     "output_type": "stream",
     "text": [
      "[89, 2, 4]\n",
      "[1, 2, 4]\n"
     ]
    }
   ],
   "execution_count": 4
  },
  {
   "metadata": {},
   "cell_type": "markdown",
   "source": "### Dictionary Access",
   "id": "d787599309246684"
  },
  {
   "metadata": {
    "ExecuteTime": {
     "end_time": "2025-05-06T20:25:50.067467Z",
     "start_time": "2025-05-06T20:25:50.035228Z"
    }
   },
   "cell_type": "code",
   "source": [
    "user = {\"name\": \"Alice\"}\n",
    "print(user.setdefault(\"age\", 25))\n",
    "print(user)"
   ],
   "id": "97b2ec8d9354bacc",
   "outputs": [
    {
     "name": "stdout",
     "output_type": "stream",
     "text": [
      "25\n",
      "{'name': 'Alice', 'age': 25}\n"
     ]
    }
   ],
   "execution_count": 5
  },
  {
   "metadata": {},
   "cell_type": "markdown",
   "source": "### Dictionary Iteration",
   "id": "2eadc65e5927f3f2"
  },
  {
   "metadata": {
    "ExecuteTime": {
     "end_time": "2025-05-06T20:31:29.673397Z",
     "start_time": "2025-05-06T20:31:29.665925Z"
    }
   },
   "cell_type": "code",
   "source": [
    "person = {\"name\": \"Jimmy\", \"age\": 30}\n",
    "for key, value in person.items():\n",
    "    print(f\"{key}: {value}\")"
   ],
   "id": "70093a7e82d7d216",
   "outputs": [
    {
     "name": "stdout",
     "output_type": "stream",
     "text": [
      "name: Jimmy\n",
      "age: 30\n"
     ]
    }
   ],
   "execution_count": 7
  },
  {
   "metadata": {},
   "cell_type": "markdown",
   "source": "### Set Operations",
   "id": "419d654aaaf9eabd"
  },
  {
   "metadata": {
    "ExecuteTime": {
     "end_time": "2025-05-06T20:32:58.651080Z",
     "start_time": "2025-05-06T20:32:58.619727Z"
    }
   },
   "cell_type": "code",
   "source": [
    "a = {1,2,3,4,5}\n",
    "b = {2,4,7,8}\n",
    "\n",
    "print(a.intersection(b))\n",
    "print(a.union(b))\n",
    "print(a.difference(b))"
   ],
   "id": "1c97f890e4776fc4",
   "outputs": [
    {
     "name": "stdout",
     "output_type": "stream",
     "text": [
      "{2, 4}\n",
      "{1, 2, 3, 4, 5, 7, 8}\n",
      "{1, 3, 5}\n"
     ]
    }
   ],
   "execution_count": 8
  },
  {
   "metadata": {},
   "cell_type": "markdown",
   "source": "### Tuple Unpacking",
   "id": "12aa09454d920b97"
  },
  {
   "metadata": {
    "ExecuteTime": {
     "end_time": "2025-05-06T20:33:58.965757Z",
     "start_time": "2025-05-06T20:33:58.944268Z"
    }
   },
   "cell_type": "code",
   "source": [
    "x, y, z = (7, 8, 9)\n",
    "print(x)\n",
    "print(y)\n",
    "print(z)"
   ],
   "id": "257fe3167f9327f3",
   "outputs": [
    {
     "name": "stdout",
     "output_type": "stream",
     "text": [
      "7\n",
      "8\n",
      "9\n"
     ]
    }
   ],
   "execution_count": 9
  },
  {
   "metadata": {},
   "cell_type": "markdown",
   "source": "### Immutable Tuples",
   "id": "76f5b665633a0c8c"
  },
  {
   "metadata": {
    "ExecuteTime": {
     "end_time": "2025-05-06T20:35:57.683582Z",
     "start_time": "2025-05-06T20:35:57.662290Z"
    }
   },
   "cell_type": "code",
   "source": [
    "t = (2,3,4)\n",
    "\n",
    "try:\n",
    "    t[0] = 98\n",
    "except TypeError as e:\n",
    "    print(f\"TypeError: {e}\")"
   ],
   "id": "a867805fe638e5b5",
   "outputs": [
    {
     "name": "stdout",
     "output_type": "stream",
     "text": [
      "TypeError: 'tuple' object does not support item assignment\n"
     ]
    }
   ],
   "execution_count": 10
  },
  {
   "metadata": {},
   "cell_type": "markdown",
   "source": "###  List Comprehension with Condition",
   "id": "3b06d7ccc23311c"
  },
  {
   "metadata": {
    "ExecuteTime": {
     "end_time": "2025-05-06T21:03:05.891633Z",
     "start_time": "2025-05-06T21:03:05.874659Z"
    }
   },
   "cell_type": "code",
   "source": [
    "nums = [1, 2, 3, 4]\n",
    "result = [x**2 for x in nums if x % 2 == 0]\n",
    "print(result)"
   ],
   "id": "fb85ff9c4568f8b3",
   "outputs": [
    {
     "name": "stdout",
     "output_type": "stream",
     "text": [
      "[4, 16]\n"
     ]
    }
   ],
   "execution_count": 1
  },
  {
   "metadata": {},
   "cell_type": "markdown",
   "source": "### Nested List Comprehension",
   "id": "b6377e3e2ffd86eb"
  },
  {
   "metadata": {
    "ExecuteTime": {
     "end_time": "2025-05-06T21:05:59.291024Z",
     "start_time": "2025-05-06T21:05:59.267375Z"
    }
   },
   "cell_type": "code",
   "source": [
    "nested = [[1, 2], [3, 4]]\n",
    "flat = [num for sublist in nested for num in sublist]\n",
    "print(flat)"
   ],
   "id": "491d1628abbf0d4e",
   "outputs": [
    {
     "name": "stdout",
     "output_type": "stream",
     "text": [
      "[1, 2, 3, 4]\n"
     ]
    }
   ],
   "execution_count": 2
  },
  {
   "metadata": {},
   "cell_type": "markdown",
   "source": "### Dict Comprehension",
   "id": "b9f36637500c5631"
  },
  {
   "metadata": {
    "ExecuteTime": {
     "end_time": "2025-05-06T21:06:41.732619Z",
     "start_time": "2025-05-06T21:06:41.715812Z"
    }
   },
   "cell_type": "code",
   "source": [
    "keys = [\"a\", \"b\"]\n",
    "d = {k: 1 for k in keys}\n",
    "print(d)"
   ],
   "id": "aa838ff55aa0416a",
   "outputs": [
    {
     "name": "stdout",
     "output_type": "stream",
     "text": [
      "{'a': 1, 'b': 1}\n"
     ]
    }
   ],
   "execution_count": 3
  },
  {
   "metadata": {},
   "cell_type": "markdown",
   "source": "### Set Comprehension",
   "id": "22f3be868347a1be"
  },
  {
   "metadata": {
    "ExecuteTime": {
     "end_time": "2025-05-06T21:07:14.141863Z",
     "start_time": "2025-05-06T21:07:14.127782Z"
    }
   },
   "cell_type": "code",
   "source": [
    "s = \"hello world\"\n",
    "vowels = {char for char in s if char in 'aeiou'}\n",
    "print(vowels)"
   ],
   "id": "6fd05aea49a21991",
   "outputs": [
    {
     "name": "stdout",
     "output_type": "stream",
     "text": [
      "{'e', 'o'}\n"
     ]
    }
   ],
   "execution_count": 4
  },
  {
   "metadata": {},
   "cell_type": "markdown",
   "source": "### Generator Expression",
   "id": "a1b2c5e1b7ecde26"
  },
  {
   "metadata": {
    "ExecuteTime": {
     "end_time": "2025-05-06T21:08:40.796451Z",
     "start_time": "2025-05-06T21:08:40.781959Z"
    }
   },
   "cell_type": "code",
   "source": [
    "gen = (n*n for n in range(5))\n",
    "for num in gen:\n",
    "    print(num, end=' ')"
   ],
   "id": "dc2843995bbf26f1",
   "outputs": [
    {
     "name": "stdout",
     "output_type": "stream",
     "text": [
      "0 1 4 9 16 "
     ]
    }
   ],
   "execution_count": 5
  },
  {
   "metadata": {},
   "cell_type": "markdown",
   "source": "### List vs Generator Memory",
   "id": "cffdb8bf1fc352a1"
  },
  {
   "metadata": {
    "ExecuteTime": {
     "end_time": "2025-05-06T21:09:21.301808Z",
     "start_time": "2025-05-06T21:09:21.122853Z"
    }
   },
   "cell_type": "code",
   "source": [
    "import sys\n",
    "\n",
    "list_mem = [x for x in range(1000000)]\n",
    "gen_mem = (x for x in range(1000000))\n",
    "\n",
    "print(f\"List memory: {sys.getsizeof(list_mem)/1e6:.2f} MB\")\n",
    "print(f\"Gen memory: {sys.getsizeof(gen_mem)} bytes\")"
   ],
   "id": "c7a9b9808b6725fd",
   "outputs": [
    {
     "name": "stdout",
     "output_type": "stream",
     "text": [
      "List memory: 8.45 MB\n",
      "Gen memory: 200 bytes\n"
     ]
    }
   ],
   "execution_count": 6
  },
  {
   "metadata": {},
   "cell_type": "markdown",
   "source": "### Filter with Comprehension",
   "id": "e1526210c5a16c60"
  },
  {
   "metadata": {
    "ExecuteTime": {
     "end_time": "2025-05-06T21:11:44.635641Z",
     "start_time": "2025-05-06T21:11:44.618175Z"
    }
   },
   "cell_type": "code",
   "source": [
    "words = [\"hi\", \"hello\", \"bye\"]\n",
    "even_len = [word for word in words if len(word) % 2 == 0]\n",
    "print(even_len)"
   ],
   "id": "b1161048e8119ab1",
   "outputs": [
    {
     "name": "stdout",
     "output_type": "stream",
     "text": [
      "['hi']\n"
     ]
    }
   ],
   "execution_count": 7
  },
  {
   "metadata": {},
   "cell_type": "markdown",
   "source": "### Conditional Assignment in Comprehension",
   "id": "f7881a58e58a8629"
  },
  {
   "metadata": {
    "ExecuteTime": {
     "end_time": "2025-05-06T21:12:11.184435Z",
     "start_time": "2025-05-06T21:12:11.165763Z"
    }
   },
   "cell_type": "code",
   "source": [
    "nums = [-1, 2, -3, 4]\n",
    "non_neg = [x if x >= 0 else 0 for x in nums]\n",
    "print(non_neg)"
   ],
   "id": "13798179e65e8d3b",
   "outputs": [
    {
     "name": "stdout",
     "output_type": "stream",
     "text": [
      "[0, 2, 0, 4]\n"
     ]
    }
   ],
   "execution_count": 8
  },
  {
   "metadata": {},
   "cell_type": "markdown",
   "source": "### Default Arguments\n",
   "id": "8c576940706ce87c"
  },
  {
   "metadata": {
    "ExecuteTime": {
     "end_time": "2025-05-06T21:17:29.357917Z",
     "start_time": "2025-05-06T21:17:29.324630Z"
    }
   },
   "cell_type": "code",
   "source": [
    "def greet(name=\"Guest\"):\n",
    "    return f\"Hello, {name}!\"\n",
    "\n",
    "print(greet())\n",
    "print(greet(\"bob\"))"
   ],
   "id": "3a345d18448d8c5c",
   "outputs": [
    {
     "name": "stdout",
     "output_type": "stream",
     "text": [
      "Hello, Guest!\n",
      "Hello, bob!\n"
     ]
    }
   ],
   "execution_count": 9
  },
  {
   "metadata": {},
   "cell_type": "markdown",
   "source": "### Keyword Arguments",
   "id": "db03ae9fc2d4d656"
  },
  {
   "metadata": {
    "ExecuteTime": {
     "end_time": "2025-05-06T21:18:30.315743Z",
     "start_time": "2025-05-06T21:18:30.299145Z"
    }
   },
   "cell_type": "code",
   "source": [
    "def info(name, age=0):\n",
    "    return f\"{name} is {age} years old\"\n",
    "print(info(\"bob\"))\n",
    "print(info(\"bob\", age=25))"
   ],
   "id": "ac2c3e9983192901",
   "outputs": [
    {
     "name": "stdout",
     "output_type": "stream",
     "text": [
      "bob is 0 years old\n",
      "bob is 25 years old\n"
     ]
    }
   ],
   "execution_count": 10
  },
  {
   "metadata": {},
   "cell_type": "markdown",
   "source": "### Variable Positional Args (*args)",
   "id": "a75026485d7da985"
  },
  {
   "metadata": {
    "ExecuteTime": {
     "end_time": "2025-05-06T21:19:22.883140Z",
     "start_time": "2025-05-06T21:19:22.868955Z"
    }
   },
   "cell_type": "code",
   "source": [
    "def add_all(*args):\n",
    "    return sum(args)\n",
    "\n",
    "print(add_all(1, 2, 3))\n",
    "print(add_all(5, 10, 15, 20))"
   ],
   "id": "5892799720dfe56b",
   "outputs": [
    {
     "name": "stdout",
     "output_type": "stream",
     "text": [
      "6\n",
      "50\n"
     ]
    }
   ],
   "execution_count": 11
  },
  {
   "metadata": {},
   "cell_type": "markdown",
   "source": "### Variable Keyword Args (**kwargs)",
   "id": "478f6c09b415b1a7"
  },
  {
   "metadata": {
    "ExecuteTime": {
     "end_time": "2025-05-06T21:20:00.657589Z",
     "start_time": "2025-05-06T21:20:00.646031Z"
    }
   },
   "cell_type": "code",
   "source": [
    "def show_settings(**kwargs):\n",
    "    for key, value in kwargs.items():\n",
    "        print(f\"{key}: {value}\")\n",
    "\n",
    "show_settings(theme=\"dark\", font_size=12)"
   ],
   "id": "b8d3773f9c3d27e1",
   "outputs": [
    {
     "name": "stdout",
     "output_type": "stream",
     "text": [
      "theme: dark\n",
      "font_size: 12\n"
     ]
    }
   ],
   "execution_count": 12
  },
  {
   "metadata": {},
   "cell_type": "markdown",
   "source": "###  Mixed Args (*args and **kwargs)",
   "id": "14deb0ff487a0a97"
  },
  {
   "metadata": {
    "ExecuteTime": {
     "end_time": "2025-05-06T21:20:23.591276Z",
     "start_time": "2025-05-06T21:20:23.575726Z"
    }
   },
   "cell_type": "code",
   "source": [
    "def mixed_function(a, b, *args, **kwargs):\n",
    "    print(f\"Required: {a}, {b}\")\n",
    "    print(f\"Additional positional: {args}\")\n",
    "    print(f\"Additional keyword: {kwargs}\")\n",
    "\n",
    "mixed_function(1, 2, 3, 4, x=5, y=6)"
   ],
   "id": "6e4494d8ea76479e",
   "outputs": [
    {
     "name": "stdout",
     "output_type": "stream",
     "text": [
      "Required: 1, 2\n",
      "Additional positional: (3, 4)\n",
      "Additional keyword: {'x': 5, 'y': 6}\n"
     ]
    }
   ],
   "execution_count": 13
  },
  {
   "metadata": {},
   "cell_type": "markdown",
   "source": "### Positional-Only Args (using /)",
   "id": "9b1ecc2755ee2080"
  },
  {
   "metadata": {
    "ExecuteTime": {
     "end_time": "2025-05-06T21:20:49.057132Z",
     "start_time": "2025-05-06T21:20:49.044571Z"
    }
   },
   "cell_type": "code",
   "source": [
    "def power(x, y, /):\n",
    "    return x ** y\n",
    "\n",
    "print(power(2, 3))"
   ],
   "id": "5c5bd23376da17bc",
   "outputs": [
    {
     "name": "stdout",
     "output_type": "stream",
     "text": [
      "8\n"
     ]
    }
   ],
   "execution_count": 14
  },
  {
   "metadata": {},
   "cell_type": "markdown",
   "source": "### Keyword-Only Args (using *)\n",
   "id": "6b55d80667d850cf"
  },
  {
   "metadata": {},
   "cell_type": "code",
   "outputs": [],
   "execution_count": null,
   "source": [
    "def greet(*, name, greeting=\"Hello\"):\n",
    "    return f\"{greeting}, {name}!\"\n",
    "\n",
    "print(greet(name=\"Alice\", greeting=\"Hi\"))"
   ],
   "id": "fad037099fd0656"
  },
  {
   "metadata": {},
   "cell_type": "markdown",
   "source": "###  Function Annotations (Type Hints)",
   "id": "e031c95cf1b596a3"
  },
  {
   "metadata": {
    "ExecuteTime": {
     "end_time": "2025-05-06T21:21:43.810114Z",
     "start_time": "2025-05-06T21:21:43.798164Z"
    }
   },
   "cell_type": "code",
   "source": [
    "def add(a: int, b: int) -> int:\n",
    "    return a + b\n",
    "\n",
    "print(add(3, 5))        # Output: 8\n",
    "print(add.__annotations__)"
   ],
   "id": "29e7f2975eaa7e7",
   "outputs": [
    {
     "name": "stdout",
     "output_type": "stream",
     "text": [
      "8\n",
      "{'a': <class 'int'>, 'b': <class 'int'>, 'return': <class 'int'>}\n"
     ]
    }
   ],
   "execution_count": 15
  },
  {
   "metadata": {},
   "cell_type": "markdown",
   "source": "###  LEGB Rule (Local, Enclosing, Global, Built-in)",
   "id": "97956a6a6b15b0d0"
  },
  {
   "metadata": {
    "ExecuteTime": {
     "end_time": "2025-05-06T21:24:04.980565Z",
     "start_time": "2025-05-06T21:24:04.926661Z"
    }
   },
   "cell_type": "code",
   "source": [
    "x = 10\n",
    "\n",
    "def show_scope():\n",
    "    x = 20\n",
    "    print(x)\n",
    "\n",
    "show_scope()\n",
    "print(x)"
   ],
   "id": "b627dd32347f52e",
   "outputs": [
    {
     "name": "stdout",
     "output_type": "stream",
     "text": [
      "20\n",
      "10\n"
     ]
    }
   ],
   "execution_count": 16
  },
  {
   "metadata": {},
   "cell_type": "markdown",
   "source": "###  Nested Function Access",
   "id": "d5007a607d9e1fbd"
  },
  {
   "metadata": {
    "ExecuteTime": {
     "end_time": "2025-05-06T21:24:34.918311Z",
     "start_time": "2025-05-06T21:24:34.906014Z"
    }
   },
   "cell_type": "code",
   "source": [
    "def outer():\n",
    "    outer_var = \"I'm outside!\"\n",
    "\n",
    "    def inner():\n",
    "        print(outer_var)\n",
    "\n",
    "    inner()\n",
    "\n",
    "outer()"
   ],
   "id": "a5bd5c7470d3a4bf",
   "outputs": [
    {
     "name": "stdout",
     "output_type": "stream",
     "text": [
      "I'm outside!\n"
     ]
    }
   ],
   "execution_count": 17
  },
  {
   "metadata": {},
   "cell_type": "markdown",
   "source": "###  nonlocal Usage",
   "id": "1cb160ff29f9d548"
  },
  {
   "metadata": {
    "ExecuteTime": {
     "end_time": "2025-05-06T21:25:59.472005Z",
     "start_time": "2025-05-06T21:25:59.459315Z"
    }
   },
   "cell_type": "code",
   "source": [
    "def counter():\n",
    "    count = 0\n",
    "\n",
    "    def increment():\n",
    "        nonlocal count\n",
    "        count += 1\n",
    "        return count\n",
    "\n",
    "    return increment\n",
    "\n",
    "counter_fn = counter()\n",
    "print(counter_fn())\n",
    "print(counter_fn())"
   ],
   "id": "617012dd34aef85e",
   "outputs": [
    {
     "name": "stdout",
     "output_type": "stream",
     "text": [
      "1\n",
      "2\n"
     ]
    }
   ],
   "execution_count": 18
  },
  {
   "metadata": {},
   "cell_type": "markdown",
   "source": "### global Usage",
   "id": "e444c38930fb410a"
  },
  {
   "metadata": {
    "ExecuteTime": {
     "end_time": "2025-05-06T21:26:01.791312Z",
     "start_time": "2025-05-06T21:26:01.771155Z"
    }
   },
   "cell_type": "code",
   "source": [
    "total = 0\n",
    "\n",
    "def add_to_total(n):\n",
    "    global total\n",
    "    total += n\n",
    "\n",
    "add_to_total(5)\n",
    "print(total)\n",
    "add_to_total(10)\n",
    "print(total)"
   ],
   "id": "e82518954e35eb2f",
   "outputs": [
    {
     "name": "stdout",
     "output_type": "stream",
     "text": [
      "5\n",
      "15\n"
     ]
    }
   ],
   "execution_count": 19
  },
  {
   "metadata": {},
   "cell_type": "markdown",
   "source": "### Closure Function",
   "id": "9d191ec35b3aa0f9"
  },
  {
   "metadata": {
    "ExecuteTime": {
     "end_time": "2025-05-06T21:26:44.546896Z",
     "start_time": "2025-05-06T21:26:44.528399Z"
    }
   },
   "cell_type": "code",
   "source": [
    "def make_multiplier(n):\n",
    "    def multiplier(x):\n",
    "        return x * n\n",
    "    return multiplier\n",
    "\n",
    "double = make_multiplier(2)\n",
    "print(double(5))\n"
   ],
   "id": "aa2282fc8ec4be2a",
   "outputs": [
    {
     "name": "stdout",
     "output_type": "stream",
     "text": [
      "10\n"
     ]
    }
   ],
   "execution_count": 20
  },
  {
   "metadata": {},
   "cell_type": "markdown",
   "source": "###  Closure Memory",
   "id": "db5aa811ebca12fc"
  },
  {
   "metadata": {
    "ExecuteTime": {
     "end_time": "2025-05-06T21:27:15.636270Z",
     "start_time": "2025-05-06T21:27:15.622305Z"
    }
   },
   "cell_type": "code",
   "source": [
    "triple = make_multiplier(3)\n",
    "print(triple(10))\n",
    "print(triple(7))"
   ],
   "id": "1ab0a5d8193e22a0",
   "outputs": [
    {
     "name": "stdout",
     "output_type": "stream",
     "text": [
      "30\n",
      "21\n"
     ]
    }
   ],
   "execution_count": 21
  },
  {
   "metadata": {},
   "cell_type": "markdown",
   "source": "###  Name Shadowing",
   "id": "34334fa4bfa2aa4f"
  },
  {
   "metadata": {
    "ExecuteTime": {
     "end_time": "2025-05-06T21:27:51.352865Z",
     "start_time": "2025-05-06T21:27:51.337607Z"
    }
   },
   "cell_type": "code",
   "source": [
    "len = 5\n",
    "\n",
    "try:\n",
    "    print(len(\"hello\"))\n",
    "except TypeError as e:\n",
    "    print(f\"Error: {e}\")"
   ],
   "id": "9d4284dcf41a6f2",
   "outputs": [
    {
     "name": "stdout",
     "output_type": "stream",
     "text": [
      "Error: 'int' object is not callable\n"
     ]
    }
   ],
   "execution_count": 22
  },
  {
   "metadata": {},
   "cell_type": "markdown",
   "source": "### Scope Error",
   "id": "7495c1c92df26d4e"
  },
  {
   "metadata": {
    "ExecuteTime": {
     "end_time": "2025-05-06T21:28:26.038204Z",
     "start_time": "2025-05-06T21:28:26.022493Z"
    }
   },
   "cell_type": "code",
   "source": [
    "def scope_test():\n",
    "    print(value)\n",
    "    value = 100\n",
    "\n",
    "try:\n",
    "    scope_test()\n",
    "except UnboundLocalError as e:\n",
    "    print(f\"Error: {e}\")"
   ],
   "id": "9bc4465c3392169a",
   "outputs": [
    {
     "name": "stdout",
     "output_type": "stream",
     "text": [
      "Error: cannot access local variable 'value' where it is not associated with a value\n"
     ]
    }
   ],
   "execution_count": 23
  },
  {
   "metadata": {},
   "cell_type": "markdown",
   "source": "### Basic try/except",
   "id": "19fcdddeb81907eb"
  },
  {
   "metadata": {
    "ExecuteTime": {
     "end_time": "2025-05-07T08:05:01.095584Z",
     "start_time": "2025-05-07T08:05:01.024935Z"
    }
   },
   "cell_type": "code",
   "source": [
    "try:\n",
    "    result = 10 / 0\n",
    "except ZeroDivisionError:\n",
    "    print(\"Cannot divide\")"
   ],
   "id": "cdadaaeb6de6f475",
   "outputs": [
    {
     "name": "stdout",
     "output_type": "stream",
     "text": [
      "Cannot divide\n"
     ]
    }
   ],
   "execution_count": 24
  },
  {
   "metadata": {},
   "cell_type": "markdown",
   "source": "### try/except/else",
   "id": "b6c52af2681e6349"
  },
  {
   "metadata": {
    "ExecuteTime": {
     "end_time": "2025-05-07T08:06:22.266611Z",
     "start_time": "2025-05-07T08:06:22.249893Z"
    }
   },
   "cell_type": "code",
   "source": [
    "try:\n",
    "    result = 10 / 2\n",
    "except ZeroDivisionError:\n",
    "    print(\"Cannot divide\")\n",
    "else:\n",
    "    print(\"Success\")"
   ],
   "id": "a41b00f17aa9431",
   "outputs": [
    {
     "name": "stdout",
     "output_type": "stream",
     "text": [
      "Success\n"
     ]
    }
   ],
   "execution_count": 25
  },
  {
   "metadata": {},
   "cell_type": "markdown",
   "source": "###  finally Block",
   "id": "a2719a7581c54173"
  },
  {
   "metadata": {
    "ExecuteTime": {
     "end_time": "2025-05-07T08:07:00.752938Z",
     "start_time": "2025-05-07T08:07:00.714503Z"
    }
   },
   "cell_type": "code",
   "source": [
    "try:\n",
    "    result = 10 / 2\n",
    "except ZeroDivisionError:\n",
    "    print(\"Cannot divide\")\n",
    "finally:\n",
    "    print(\"Cleanup done\")"
   ],
   "id": "a4016330142d7ada",
   "outputs": [
    {
     "name": "stdout",
     "output_type": "stream",
     "text": [
      "Cleanup done\n"
     ]
    }
   ],
   "execution_count": 26
  },
  {
   "metadata": {},
   "cell_type": "markdown",
   "source": "### Multiple Exceptions",
   "id": "c4bbc6676dc60201"
  },
  {
   "metadata": {
    "ExecuteTime": {
     "end_time": "2025-05-07T08:07:55.099981Z",
     "start_time": "2025-05-07T08:07:55.088302Z"
    }
   },
   "cell_type": "code",
   "source": [
    "try:\n",
    "    num = int(\"text\")  # Will raise ValueError\n",
    "    result = 10 / num\n",
    "except ValueError:\n",
    "    print(\"Invalid number format\")\n",
    "except ZeroDivisionError:\n",
    "    print(\"Cannot divide by zero\")"
   ],
   "id": "5322f4899ccc2cef",
   "outputs": [
    {
     "name": "stdout",
     "output_type": "stream",
     "text": [
      "Invalid number format\n"
     ]
    }
   ],
   "execution_count": 27
  },
  {
   "metadata": {},
   "cell_type": "markdown",
   "source": "### Custom Exception",
   "id": "2da6091ce087d42f"
  },
  {
   "metadata": {
    "ExecuteTime": {
     "end_time": "2025-05-07T08:08:28.836807Z",
     "start_time": "2025-05-07T08:08:28.737339Z"
    }
   },
   "cell_type": "code",
   "source": [
    "class InvalidAgeError(Exception):\n",
    "    pass\n",
    "\n",
    "def set_age(age):\n",
    "    if age < 0:\n",
    "        raise InvalidAgeError(\"Age cannot be negative\")\n",
    "    print(f\"Age set to {age}\")\n",
    "\n",
    "try:\n",
    "    set_age(-5)\n",
    "except InvalidAgeError as e:\n",
    "    print(f\"Error: {e}\")"
   ],
   "id": "1bcb2504f829fcc5",
   "outputs": [
    {
     "name": "stdout",
     "output_type": "stream",
     "text": [
      "Error: Age cannot be negative\n"
     ]
    }
   ],
   "execution_count": 28
  },
  {
   "metadata": {},
   "cell_type": "markdown",
   "source": "###  Reraise Exception",
   "id": "2ba5282fde730e62"
  },
  {
   "metadata": {
    "ExecuteTime": {
     "end_time": "2025-05-07T08:09:05.505437Z",
     "start_time": "2025-05-07T08:09:03.690033Z"
    }
   },
   "cell_type": "code",
   "source": [
    "import logging\n",
    "\n",
    "logging.basicConfig(level=logging.ERROR)\n",
    "\n",
    "try:\n",
    "    result = 10 / 0\n",
    "except ZeroDivisionError:\n",
    "    logging.exception(\"Division failed\")\n",
    "    raise"
   ],
   "id": "c76f36996dbde933",
   "outputs": [
    {
     "name": "stderr",
     "output_type": "stream",
     "text": [
      "ERROR:root:Division failed\n",
      "Traceback (most recent call last):\n",
      "  File \"/var/folders/1s/qbgp0bc121l0y8tgg3sszkn00000gn/T/ipykernel_25366/1096180191.py\", line 6, in <module>\n",
      "    result = 10 / 0\n",
      "             ~~~^~~\n",
      "ZeroDivisionError: division by zero\n"
     ]
    },
    {
     "ename": "ZeroDivisionError",
     "evalue": "division by zero",
     "output_type": "error",
     "traceback": [
      "\u001B[31m---------------------------------------------------------------------------\u001B[39m",
      "\u001B[31mZeroDivisionError\u001B[39m                         Traceback (most recent call last)",
      "\u001B[36mCell\u001B[39m\u001B[36m \u001B[39m\u001B[32mIn[29]\u001B[39m\u001B[32m, line 6\u001B[39m\n\u001B[32m      3\u001B[39m logging.basicConfig(level=logging.ERROR)\n\u001B[32m      5\u001B[39m \u001B[38;5;28;01mtry\u001B[39;00m:\n\u001B[32m----> \u001B[39m\u001B[32m6\u001B[39m     result = \u001B[32;43m10\u001B[39;49m\u001B[43m \u001B[49m\u001B[43m/\u001B[49m\u001B[43m \u001B[49m\u001B[32;43m0\u001B[39;49m\n\u001B[32m      7\u001B[39m \u001B[38;5;28;01mexcept\u001B[39;00m \u001B[38;5;167;01mZeroDivisionError\u001B[39;00m:\n\u001B[32m      8\u001B[39m     logging.exception(\u001B[33m\"\u001B[39m\u001B[33mDivision failed\u001B[39m\u001B[33m\"\u001B[39m)\n",
      "\u001B[31mZeroDivisionError\u001B[39m: division by zero"
     ]
    }
   ],
   "execution_count": 29
  },
  {
   "metadata": {},
   "cell_type": "markdown",
   "source": "###  Suppressing Exceptions",
   "id": "444fd6b692aa0023"
  },
  {
   "metadata": {
    "ExecuteTime": {
     "end_time": "2025-05-07T08:10:10.105382Z",
     "start_time": "2025-05-07T08:10:10.092952Z"
    }
   },
   "cell_type": "code",
   "source": [
    "from contextlib import suppress\n",
    "\n",
    "with suppress(KeyError):\n",
    "    d = {\"a\": 1}\n",
    "    print(d[\"b\"])\n",
    "print(\"Continues Normally\")"
   ],
   "id": "4a918d7c286a374d",
   "outputs": [
    {
     "name": "stdout",
     "output_type": "stream",
     "text": [
      "Continues Normally\n"
     ]
    }
   ],
   "execution_count": 30
  },
  {
   "metadata": {},
   "cell_type": "markdown",
   "source": "###  Nested try Blocks",
   "id": "b9b59405993db998"
  },
  {
   "metadata": {
    "ExecuteTime": {
     "end_time": "2025-05-07T08:11:09.885153Z",
     "start_time": "2025-05-07T08:11:09.866960Z"
    }
   },
   "cell_type": "code",
   "source": [
    "try:\n",
    "    try:\n",
    "        num = int(\"text\")\n",
    "    except ValueError:\n",
    "        print(\"Inner: Invalid number\")\n",
    "        raise\n",
    "    finally:\n",
    "        print(\"Inner cleanup\")\n",
    "except Exception:\n",
    "    print(\"Outer: Caught re-raised exception\")"
   ],
   "id": "6a039b0b0f36f00e",
   "outputs": [
    {
     "name": "stdout",
     "output_type": "stream",
     "text": [
      "Inner: Invalid number\n",
      "Inner cleanup\n",
      "Outer: Caught re-raised exception\n"
     ]
    }
   ],
   "execution_count": 31
  },
  {
   "metadata": {},
   "cell_type": "markdown",
   "source": "### Manual Iterator",
   "id": "f3b2b683efbbefe2"
  },
  {
   "metadata": {
    "ExecuteTime": {
     "end_time": "2025-05-07T08:43:08.020664Z",
     "start_time": "2025-05-07T08:43:07.944678Z"
    }
   },
   "cell_type": "code",
   "source": [
    "numbers = [10, 20, 30]\n",
    "iterator = iter(numbers)\n",
    "\n",
    "print(next(iterator))\n",
    "print(next(iterator))\n",
    "print(next(iterator))"
   ],
   "id": "f077f213a2e18e6d",
   "outputs": [
    {
     "name": "stdout",
     "output_type": "stream",
     "text": [
      "10\n",
      "20\n",
      "30\n"
     ]
    }
   ],
   "execution_count": 32
  },
  {
   "metadata": {},
   "cell_type": "markdown",
   "source": "### Custom Iterator Class",
   "id": "51b3ed5d0816de8f"
  },
  {
   "metadata": {
    "ExecuteTime": {
     "end_time": "2025-05-07T08:43:39.766005Z",
     "start_time": "2025-05-07T08:43:39.755867Z"
    }
   },
   "cell_type": "code",
   "source": [
    "class Counter:\n",
    "    def __init__(self, limit):\n",
    "        self.current = 0\n",
    "        self.limit = limit\n",
    "\n",
    "    def __iter__(self):\n",
    "        return self\n",
    "\n",
    "    def __next__(self):\n",
    "        if self.current >= self.limit:\n",
    "            raise StopIteration\n",
    "        self.current += 1\n",
    "        return self.current - 1\n",
    "\n",
    "for num in Counter(3):\n",
    "    print(num)"
   ],
   "id": "14fab71d6d81f09b",
   "outputs": [
    {
     "name": "stdout",
     "output_type": "stream",
     "text": [
      "0\n",
      "1\n",
      "2\n"
     ]
    }
   ],
   "execution_count": 33
  },
  {
   "metadata": {},
   "cell_type": "markdown",
   "source": "### StopIteration Handling",
   "id": "1547bba3445e6e3c"
  },
  {
   "metadata": {
    "ExecuteTime": {
     "end_time": "2025-05-07T08:44:46.948258Z",
     "start_time": "2025-05-07T08:44:46.937398Z"
    }
   },
   "cell_type": "code",
   "source": [
    "iterator = iter([1])\n",
    "print(next(iterator))  # 1\n",
    "try:\n",
    "    next(iterator)  # Raises StopIteration\n",
    "except StopIteration:\n",
    "    print(\"Reached end of iteration\")"
   ],
   "id": "9dca710d76b3d6af",
   "outputs": [
    {
     "name": "stdout",
     "output_type": "stream",
     "text": [
      "1\n",
      "Reached end of iteration\n"
     ]
    }
   ],
   "execution_count": 34
  },
  {
   "metadata": {},
   "cell_type": "markdown",
   "source": "###  Simple Generator (Countdown)",
   "id": "c4eeb175b1bcb315"
  },
  {
   "metadata": {
    "ExecuteTime": {
     "end_time": "2025-05-07T08:45:13.514667Z",
     "start_time": "2025-05-07T08:45:13.501755Z"
    }
   },
   "cell_type": "code",
   "source": [
    "def countdown(n):\n",
    "    while n > 0:\n",
    "        yield n\n",
    "        n -= 1\n",
    "\n",
    "for num in countdown(3):\n",
    "    print(num)"
   ],
   "id": "ecfba577350505a9",
   "outputs": [
    {
     "name": "stdout",
     "output_type": "stream",
     "text": [
      "3\n",
      "2\n",
      "1\n"
     ]
    }
   ],
   "execution_count": 35
  },
  {
   "metadata": {},
   "cell_type": "markdown",
   "source": "###  Generator with State",
   "id": "484b08bddbe6c30"
  },
  {
   "metadata": {
    "ExecuteTime": {
     "end_time": "2025-05-07T08:46:05.987048Z",
     "start_time": "2025-05-07T08:46:05.971350Z"
    }
   },
   "cell_type": "code",
   "source": [
    "def running_totals(items):\n",
    "    total = 0\n",
    "    for item in items:\n",
    "        total += item\n",
    "        yield total\n",
    "\n",
    "totals = running_totals([1, 2, 3])\n",
    "print(list(totals))"
   ],
   "id": "5954ba6764576376",
   "outputs": [
    {
     "name": "stdout",
     "output_type": "stream",
     "text": [
      "[1, 3, 6]\n"
     ]
    }
   ],
   "execution_count": 36
  },
  {
   "metadata": {},
   "cell_type": "markdown",
   "source": "### Generator with .send()",
   "id": "3ef011a9ebe776e4"
  },
  {
   "metadata": {
    "ExecuteTime": {
     "end_time": "2025-05-07T08:46:43.930540Z",
     "start_time": "2025-05-07T08:46:43.914628Z"
    }
   },
   "cell_type": "code",
   "source": [
    "def accumulator():\n",
    "    total = 0\n",
    "    while True:\n",
    "        value = yield total\n",
    "        if value is None:\n",
    "            break\n",
    "        total += value\n",
    "\n",
    "acc = accumulator()\n",
    "next(acc)\n",
    "print(acc.send(5))\n",
    "print(acc.send(3))\n",
    "print(acc.send(2))"
   ],
   "id": "611d44307cb0db39",
   "outputs": [
    {
     "name": "stdout",
     "output_type": "stream",
     "text": [
      "5\n",
      "8\n",
      "10\n"
     ]
    }
   ],
   "execution_count": 37
  },
  {
   "metadata": {},
   "cell_type": "markdown",
   "source": "###  Generator Expression",
   "id": "d2571f8bfcab32b1"
  },
  {
   "metadata": {
    "ExecuteTime": {
     "end_time": "2025-05-07T08:47:10.877806Z",
     "start_time": "2025-05-07T08:47:10.813909Z"
    }
   },
   "cell_type": "code",
   "source": [
    "even_numbers = (x for x in range(10) if x % 2 == 0)\n",
    "print(list(even_numbers))"
   ],
   "id": "ec1e5556564cabf7",
   "outputs": [
    {
     "name": "stdout",
     "output_type": "stream",
     "text": [
      "[0, 2, 4, 6, 8]\n"
     ]
    }
   ],
   "execution_count": 38
  },
  {
   "metadata": {},
   "cell_type": "markdown",
   "source": "### For Loop Comparison",
   "id": "dc93d200e59cbc83"
  },
  {
   "metadata": {
    "ExecuteTime": {
     "end_time": "2025-05-07T08:47:41.384296Z",
     "start_time": "2025-05-07T08:47:41.371192Z"
    }
   },
   "cell_type": "code",
   "source": [
    "gen_squares = (x**2 for x in range(5))\n",
    "print(\"Generator:\", list(gen_squares))\n",
    "\n",
    "list_squares = [x**2 for x in range(5)]\n",
    "print(\"List:\", list_squares)"
   ],
   "id": "41d81956ad3eeb4",
   "outputs": [
    {
     "name": "stdout",
     "output_type": "stream",
     "text": [
      "Generator: [0, 1, 4, 9, 16]\n",
      "List: [0, 1, 4, 9, 16]\n"
     ]
    }
   ],
   "execution_count": 39
  },
  {
   "metadata": {},
   "cell_type": "markdown",
   "source": "",
   "id": "25b20a72cb22c2b5"
  }
 ],
 "metadata": {
  "kernelspec": {
   "display_name": "Python 3",
   "language": "python",
   "name": "python3"
  },
  "language_info": {
   "codemirror_mode": {
    "name": "ipython",
    "version": 2
   },
   "file_extension": ".py",
   "mimetype": "text/x-python",
   "name": "python",
   "nbconvert_exporter": "python",
   "pygments_lexer": "ipython2",
   "version": "2.7.6"
  }
 },
 "nbformat": 4,
 "nbformat_minor": 5
}
