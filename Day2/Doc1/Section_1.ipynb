{
 "cells": [
  {
   "metadata": {},
   "cell_type": "markdown",
   "source": [
    "# This is a sample Jupyter Notebook\n",
    "\n",
    "Below is an example of a code cell. \n",
    "Put your cursor into the cell and press Shift+Enter to execute it and select the next one, or click 'Run Cell' button.\n",
    "\n",
    "Press Double Shift to search everywhere for classes, files, tool windows, actions, and settings.\n",
    "\n",
    "To learn more about Jupyter Notebooks in PyCharm, see [help](https://www.jetbrains.com/help/pycharm/ipython-notebook-support.html).\n",
    "For an overview of PyCharm, go to Help -> Learn IDE features or refer to [our documentation](https://www.jetbrains.com/help/pycharm/getting-started.html)."
   ],
   "id": "8a77807f92f26ee"
  },
  {
   "metadata": {},
   "cell_type": "markdown",
   "source": "### List Operations",
   "id": "23ab2a62b908bc40"
  },
  {
   "metadata": {
    "ExecuteTime": {
     "end_time": "2025-05-06T20:12:20.813062Z",
     "start_time": "2025-05-06T20:12:20.795764Z"
    }
   },
   "cell_type": "code",
   "source": [
    "a = [5, 3, 8]\n",
    "a.append(2)\n",
    "a.remove(3)\n",
    "a.sort()\n",
    "print(a)"
   ],
   "id": "fbc121e30a2defb3",
   "outputs": [
    {
     "name": "stdout",
     "output_type": "stream",
     "text": [
      "[2, 5, 8]\n"
     ]
    }
   ],
   "execution_count": 1
  },
  {
   "metadata": {},
   "cell_type": "markdown",
   "source": "### List Slicing",
   "id": "6551cf66d2a98cbe"
  },
  {
   "metadata": {
    "ExecuteTime": {
     "end_time": "2025-05-06T20:15:47.168338Z",
     "start_time": "2025-05-06T20:15:47.147554Z"
    }
   },
   "cell_type": "code",
   "source": [
    "lst = [1, 2, 3, 4, 5, 6, 7]\n",
    "mid = lst[2:5]\n",
    "print(mid)"
   ],
   "id": "4ad84cb70563bca1",
   "outputs": [
    {
     "name": "stdout",
     "output_type": "stream",
     "text": [
      "[3, 4, 5]\n"
     ]
    }
   ],
   "execution_count": 2
  },
  {
   "metadata": {},
   "cell_type": "markdown",
   "source": "### List Copying Pitfall",
   "id": "af46aedb1851edba"
  },
  {
   "metadata": {
    "ExecuteTime": {
     "end_time": "2025-05-06T20:18:00.329734Z",
     "start_time": "2025-05-06T20:18:00.310898Z"
    }
   },
   "cell_type": "code",
   "source": [
    "b = [1,2,4]\n",
    "b_shallow = b\n",
    "b_deep = b[:]\n",
    "\n",
    "b[0] = 89\n",
    "print(b_shallow)\n",
    "print(b_deep)"
   ],
   "id": "23c5a4ec429bdefb",
   "outputs": [
    {
     "name": "stdout",
     "output_type": "stream",
     "text": [
      "[89, 2, 4]\n",
      "[1, 2, 4]\n"
     ]
    }
   ],
   "execution_count": 4
  },
  {
   "metadata": {},
   "cell_type": "markdown",
   "source": "### Dictionary Access",
   "id": "d787599309246684"
  },
  {
   "metadata": {
    "ExecuteTime": {
     "end_time": "2025-05-06T20:25:50.067467Z",
     "start_time": "2025-05-06T20:25:50.035228Z"
    }
   },
   "cell_type": "code",
   "source": [
    "user = {\"name\": \"Alice\"}\n",
    "print(user.setdefault(\"age\", 25))\n",
    "print(user)"
   ],
   "id": "97b2ec8d9354bacc",
   "outputs": [
    {
     "name": "stdout",
     "output_type": "stream",
     "text": [
      "25\n",
      "{'name': 'Alice', 'age': 25}\n"
     ]
    }
   ],
   "execution_count": 5
  },
  {
   "metadata": {},
   "cell_type": "markdown",
   "source": "### Dictionary Iteration",
   "id": "2eadc65e5927f3f2"
  },
  {
   "metadata": {
    "ExecuteTime": {
     "end_time": "2025-05-06T20:31:29.673397Z",
     "start_time": "2025-05-06T20:31:29.665925Z"
    }
   },
   "cell_type": "code",
   "source": [
    "person = {\"name\": \"Jimmy\", \"age\": 30}\n",
    "for key, value in person.items():\n",
    "    print(f\"{key}: {value}\")"
   ],
   "id": "70093a7e82d7d216",
   "outputs": [
    {
     "name": "stdout",
     "output_type": "stream",
     "text": [
      "name: Jimmy\n",
      "age: 30\n"
     ]
    }
   ],
   "execution_count": 7
  },
  {
   "metadata": {},
   "cell_type": "markdown",
   "source": "### Set Operations",
   "id": "419d654aaaf9eabd"
  },
  {
   "metadata": {
    "ExecuteTime": {
     "end_time": "2025-05-06T20:32:58.651080Z",
     "start_time": "2025-05-06T20:32:58.619727Z"
    }
   },
   "cell_type": "code",
   "source": [
    "a = {1,2,3,4,5}\n",
    "b = {2,4,7,8}\n",
    "\n",
    "print(a.intersection(b))\n",
    "print(a.union(b))\n",
    "print(a.difference(b))"
   ],
   "id": "1c97f890e4776fc4",
   "outputs": [
    {
     "name": "stdout",
     "output_type": "stream",
     "text": [
      "{2, 4}\n",
      "{1, 2, 3, 4, 5, 7, 8}\n",
      "{1, 3, 5}\n"
     ]
    }
   ],
   "execution_count": 8
  },
  {
   "metadata": {},
   "cell_type": "markdown",
   "source": "### Tuple Unpacking",
   "id": "12aa09454d920b97"
  },
  {
   "metadata": {
    "ExecuteTime": {
     "end_time": "2025-05-06T20:33:58.965757Z",
     "start_time": "2025-05-06T20:33:58.944268Z"
    }
   },
   "cell_type": "code",
   "source": [
    "x, y, z = (7, 8, 9)\n",
    "print(x)\n",
    "print(y)\n",
    "print(z)"
   ],
   "id": "257fe3167f9327f3",
   "outputs": [
    {
     "name": "stdout",
     "output_type": "stream",
     "text": [
      "7\n",
      "8\n",
      "9\n"
     ]
    }
   ],
   "execution_count": 9
  },
  {
   "metadata": {},
   "cell_type": "markdown",
   "source": "### Immutable Tuples",
   "id": "76f5b665633a0c8c"
  },
  {
   "metadata": {
    "ExecuteTime": {
     "end_time": "2025-05-06T20:35:57.683582Z",
     "start_time": "2025-05-06T20:35:57.662290Z"
    }
   },
   "cell_type": "code",
   "source": [
    "t = (2,3,4)\n",
    "\n",
    "try:\n",
    "    t[0] = 98\n",
    "except TypeError as e:\n",
    "    print(f\"TypeError: {e}\")"
   ],
   "id": "a867805fe638e5b5",
   "outputs": [
    {
     "name": "stdout",
     "output_type": "stream",
     "text": [
      "TypeError: 'tuple' object does not support item assignment\n"
     ]
    }
   ],
   "execution_count": 10
  }
 ],
 "metadata": {
  "kernelspec": {
   "display_name": "Python 3",
   "language": "python",
   "name": "python3"
  },
  "language_info": {
   "codemirror_mode": {
    "name": "ipython",
    "version": 2
   },
   "file_extension": ".py",
   "mimetype": "text/x-python",
   "name": "python",
   "nbconvert_exporter": "python",
   "pygments_lexer": "ipython2",
   "version": "2.7.6"
  }
 },
 "nbformat": 4,
 "nbformat_minor": 5
}
