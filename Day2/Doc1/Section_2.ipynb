{
 "cells": [
  {
   "metadata": {},
   "cell_type": "markdown",
   "source": [
    "# This is a sample Jupyter Notebook\n",
    "\n",
    "Below is an example of a code cell. \n",
    "Put your cursor into the cell and press Shift+Enter to execute it and select the next one, or click 'Run Cell' button.\n",
    "\n",
    "Press Double Shift to search everywhere for classes, files, tool windows, actions, and settings.\n",
    "\n",
    "To learn more about Jupyter Notebooks in PyCharm, see [help](https://www.jetbrains.com/help/pycharm/ipython-notebook-support.html).\n",
    "For an overview of PyCharm, go to Help -> Learn IDE features or refer to [our documentation](https://www.jetbrains.com/help/pycharm/getting-started.html)."
   ],
   "id": "8a77807f92f26ee"
  },
  {
   "metadata": {
    "ExecuteTime": {
     "end_time": "2025-05-07T10:03:27.812948Z",
     "start_time": "2025-05-07T10:03:27.774431Z"
    }
   },
   "cell_type": "code",
   "source": "###",
   "id": "fbc121e30a2defb3",
   "outputs": [],
   "execution_count": 18
  },
  {
   "metadata": {},
   "cell_type": "markdown",
   "source": "###  EAFP Basics",
   "id": "b718572c2aa8c67b"
  },
  {
   "metadata": {
    "ExecuteTime": {
     "end_time": "2025-05-07T10:03:27.864304Z",
     "start_time": "2025-05-07T10:03:27.854725Z"
    }
   },
   "cell_type": "code",
   "source": [
    "d = {'a': 1, 'b': 2}\n",
    "\n",
    "try:\n",
    "    value = d['c']\n",
    "except KeyError:\n",
    "    value = 0\n",
    "\n",
    "print(value)"
   ],
   "id": "e1e1b1af753421ea",
   "outputs": [
    {
     "name": "stdout",
     "output_type": "stream",
     "text": [
      "0\n"
     ]
    }
   ],
   "execution_count": 19
  },
  {
   "metadata": {},
   "cell_type": "markdown",
   "source": "### LBYL Basics",
   "id": "65af52a5f8276753"
  },
  {
   "metadata": {
    "ExecuteTime": {
     "end_time": "2025-05-07T10:03:27.936453Z",
     "start_time": "2025-05-07T10:03:27.923974Z"
    }
   },
   "cell_type": "code",
   "source": [
    "d = {'a': 1, 'b': 2}\n",
    "\n",
    "if 'c' in d:\n",
    "    value = d['c']\n",
    "else:\n",
    "    value = 0\n",
    "\n",
    "print(value)"
   ],
   "id": "d2a86bf77fbd206d",
   "outputs": [
    {
     "name": "stdout",
     "output_type": "stream",
     "text": [
      "0\n"
     ]
    }
   ],
   "execution_count": 20
  },
  {
   "metadata": {},
   "cell_type": "markdown",
   "source": "###  File Handling",
   "id": "8b0c6a15f1274f44"
  },
  {
   "metadata": {
    "ExecuteTime": {
     "end_time": "2025-05-07T10:03:28.023524Z",
     "start_time": "2025-05-07T10:03:28.011515Z"
    }
   },
   "cell_type": "code",
   "source": [
    "try:\n",
    "    with open('nonexistent.txt') as f:\n",
    "        content = f.read()\n",
    "except FileNotFoundError:\n",
    "    content = \"File not found\"\n",
    "\n",
    "print(content)"
   ],
   "id": "c7669f7f81e33938",
   "outputs": [
    {
     "name": "stdout",
     "output_type": "stream",
     "text": [
      "File not found\n"
     ]
    }
   ],
   "execution_count": 21
  },
  {
   "metadata": {},
   "cell_type": "markdown",
   "source": "###  Attribute Access",
   "id": "62bf8b9331e1c781"
  },
  {
   "metadata": {
    "ExecuteTime": {
     "end_time": "2025-05-07T10:03:28.106060Z",
     "start_time": "2025-05-07T10:03:28.096543Z"
    }
   },
   "cell_type": "code",
   "source": [
    "class Person:\n",
    "    pass\n",
    "\n",
    "p = Person()\n",
    "\n",
    "name = getattr(p, 'name', 'Unknown')\n",
    "\n",
    "print(name)"
   ],
   "id": "652e06ec46ffa8ee",
   "outputs": [
    {
     "name": "stdout",
     "output_type": "stream",
     "text": [
      "Unknown\n"
     ]
    }
   ],
   "execution_count": 22
  },
  {
   "metadata": {},
   "cell_type": "markdown",
   "source": "###  LBYL Pitfall",
   "id": "a63e10ffb77e901f"
  },
  {
   "metadata": {
    "ExecuteTime": {
     "end_time": "2025-05-07T10:03:28.198601Z",
     "start_time": "2025-05-07T10:03:28.187510Z"
    }
   },
   "cell_type": "code",
   "source": [
    "import os\n",
    "\n",
    "filename = 'temp.txt'\n",
    "\n",
    "if os.path.exists(filename):\n",
    "    with open(filename) as f:\n",
    "        content = f.read()\n",
    "else:\n",
    "    content = \"File doesn't exist\"\n",
    "\n",
    "try:\n",
    "    with open(filename) as f:\n",
    "        content = f.read()\n",
    "except IOError:\n",
    "    content = \"File doesn't exist\""
   ],
   "id": "f340b6f10035fe87",
   "outputs": [],
   "execution_count": 23
  },
  {
   "metadata": {},
   "cell_type": "markdown",
   "source": "###  Custom Object with __getattr__",
   "id": "303c2eb4c08b7c8e"
  },
  {
   "metadata": {
    "ExecuteTime": {
     "end_time": "2025-05-07T10:03:28.233804Z",
     "start_time": "2025-05-07T10:03:28.226039Z"
    }
   },
   "cell_type": "code",
   "source": [
    "class DynamicObject:\n",
    "    def __getattr__(self, name):\n",
    "        return f\"Attribute {name} not found, but I'll return this instead\"\n",
    "\n",
    "obj = DynamicObject()\n",
    "print(obj.missing_attr)"
   ],
   "id": "328719e4142d51e4",
   "outputs": [
    {
     "name": "stdout",
     "output_type": "stream",
     "text": [
      "Attribute missing_attr not found, but I'll return this instead\n"
     ]
    }
   ],
   "execution_count": 24
  },
  {
   "metadata": {},
   "cell_type": "markdown",
   "source": "###  Safe Type Conversion (EAFP)",
   "id": "226bea5eae43437f"
  },
  {
   "metadata": {
    "ExecuteTime": {
     "end_time": "2025-05-07T10:03:28.291224Z",
     "start_time": "2025-05-07T10:03:28.278277Z"
    }
   },
   "cell_type": "code",
   "source": [
    "user_input = \"123a\"\n",
    "\n",
    "try:\n",
    "    number = int(user_input)\n",
    "except ValueError:\n",
    "    number = None\n",
    "\n",
    "print(number)"
   ],
   "id": "63439fcdb5b6ea0c",
   "outputs": [
    {
     "name": "stdout",
     "output_type": "stream",
     "text": [
      "None\n"
     ]
    }
   ],
   "execution_count": 25
  },
  {
   "metadata": {},
   "cell_type": "markdown",
   "source": "###  When to Prefer LBYL (Type Checking)",
   "id": "d7d6ab98b513824f"
  },
  {
   "metadata": {
    "ExecuteTime": {
     "end_time": "2025-05-07T10:03:28.361382Z",
     "start_time": "2025-05-07T10:03:28.353265Z"
    }
   },
   "cell_type": "code",
   "source": [
    "def process(data):\n",
    "    if not isinstance(data, (list, tuple)):\n",
    "        raise TypeError(\"Expected sequence\")\n",
    "\n",
    "    return [item * 2 for item in data]\n",
    "\n",
    "print(process([1, 2, 3]))"
   ],
   "id": "736c668a2b19428f",
   "outputs": [
    {
     "name": "stdout",
     "output_type": "stream",
     "text": [
      "[2, 4, 6]\n"
     ]
    }
   ],
   "execution_count": 26
  },
  {
   "metadata": {},
   "cell_type": "markdown",
   "source": "### enumerate()",
   "id": "ad533041e6101c8c"
  },
  {
   "metadata": {
    "ExecuteTime": {
     "end_time": "2025-05-07T10:03:28.431733Z",
     "start_time": "2025-05-07T10:03:28.422675Z"
    }
   },
   "cell_type": "code",
   "source": [
    "fruits = ['apple', 'banana', 'cherry']\n",
    "\n",
    "for index, fruit in enumerate(fruits):\n",
    "    print(f\"{index}: {fruit}\")\n"
   ],
   "id": "65c1a58457a0d2a8",
   "outputs": [
    {
     "name": "stdout",
     "output_type": "stream",
     "text": [
      "0: apple\n",
      "1: banana\n",
      "2: cherry\n"
     ]
    }
   ],
   "execution_count": 27
  },
  {
   "metadata": {},
   "cell_type": "markdown",
   "source": "###  zip()",
   "id": "2caf938f56c58ff6"
  },
  {
   "metadata": {
    "ExecuteTime": {
     "end_time": "2025-05-07T10:03:28.502069Z",
     "start_time": "2025-05-07T10:03:28.493520Z"
    }
   },
   "cell_type": "code",
   "source": [
    "numbers = [1, 2, 3]\n",
    "letters = ['a', 'b', 'c']\n",
    "\n",
    "combined = list(zip(numbers, letters))\n",
    "print(combined)"
   ],
   "id": "6a76487da29db4a8",
   "outputs": [
    {
     "name": "stdout",
     "output_type": "stream",
     "text": [
      "[(1, 'a'), (2, 'b'), (3, 'c')]\n"
     ]
    }
   ],
   "execution_count": 28
  },
  {
   "metadata": {},
   "cell_type": "markdown",
   "source": "### any() / all()",
   "id": "c51a5a8d770f7001"
  },
  {
   "metadata": {
    "ExecuteTime": {
     "end_time": "2025-05-07T10:03:28.583424Z",
     "start_time": "2025-05-07T10:03:28.575759Z"
    }
   },
   "cell_type": "code",
   "source": [
    "numbers = [1, -2, 3, 4]\n",
    "\n",
    "print(any(n < 0 for n in numbers))\n",
    "\n",
    "print(all(n > 0 for n in numbers))"
   ],
   "id": "d54f82b37fed627c",
   "outputs": [
    {
     "name": "stdout",
     "output_type": "stream",
     "text": [
      "True\n",
      "False\n"
     ]
    }
   ],
   "execution_count": 29
  },
  {
   "metadata": {},
   "cell_type": "markdown",
   "source": "###  sorted()",
   "id": "24c2e274d50d221b"
  },
  {
   "metadata": {
    "ExecuteTime": {
     "end_time": "2025-05-07T10:03:28.672263Z",
     "start_time": "2025-05-07T10:03:28.662029Z"
    }
   },
   "cell_type": "code",
   "source": [
    "pairs = [(1, 9), (2, 8), (3, 7)]\n",
    "\n",
    "sorted_pairs = sorted(pairs, key=lambda x: x[1])\n",
    "print(sorted_pairs)"
   ],
   "id": "a456d72330c74374",
   "outputs": [
    {
     "name": "stdout",
     "output_type": "stream",
     "text": [
      "[(3, 7), (2, 8), (1, 9)]\n"
     ]
    }
   ],
   "execution_count": 30
  },
  {
   "metadata": {},
   "cell_type": "markdown",
   "source": " ### map() and filter()",
   "id": "243249de9d9afd4"
  },
  {
   "metadata": {
    "ExecuteTime": {
     "end_time": "2025-05-07T10:03:28.771366Z",
     "start_time": "2025-05-07T10:03:28.758157Z"
    }
   },
   "cell_type": "code",
   "source": [
    "numbers = [1, 2, 3, 4, 5]\n",
    "\n",
    "doubled = list(map(lambda x: x * 2, numbers))\n",
    "print(doubled)\n",
    "\n",
    "odds = list(filter(lambda x: x % 2 != 0, numbers))\n",
    "print(odds)"
   ],
   "id": "a0af4111aaddb48d",
   "outputs": [
    {
     "name": "stdout",
     "output_type": "stream",
     "text": [
      "[2, 4, 6, 8, 10]\n",
      "[1, 3, 5]\n"
     ]
    }
   ],
   "execution_count": 31
  },
  {
   "metadata": {},
   "cell_type": "markdown",
   "source": "###  Chained Comparison",
   "id": "c658126d3ca81c60"
  },
  {
   "metadata": {
    "ExecuteTime": {
     "end_time": "2025-05-07T10:03:28.888464Z",
     "start_time": "2025-05-07T10:03:28.865805Z"
    }
   },
   "cell_type": "code",
   "source": [
    "x = 5\n",
    "\n",
    "if x > 0 and x < 10:\n",
    "    print(\"In range\")\n",
    "\n",
    "if 0 < x < 10:\n",
    "    print(\"In range\")"
   ],
   "id": "4800acd127bfb170",
   "outputs": [
    {
     "name": "stdout",
     "output_type": "stream",
     "text": [
      "In range\n",
      "In range\n"
     ]
    }
   ],
   "execution_count": 32
  },
  {
   "metadata": {},
   "cell_type": "markdown",
   "source": "###  Inline Swap",
   "id": "cf609b142b8bcdaa"
  },
  {
   "metadata": {
    "ExecuteTime": {
     "end_time": "2025-05-07T10:03:28.948873Z",
     "start_time": "2025-05-07T10:03:28.938791Z"
    }
   },
   "cell_type": "code",
   "source": [
    "a, b = 10, 20\n",
    "print(f\"Before: a={a}, b={b}\")\n",
    "\n",
    "a, b = b, a\n",
    "print(f\"After: a={a}, b={b}\")"
   ],
   "id": "be1e0905fef20054",
   "outputs": [
    {
     "name": "stdout",
     "output_type": "stream",
     "text": [
      "Before: a=10, b=20\n",
      "After: a=20, b=10\n"
     ]
    }
   ],
   "execution_count": 33
  },
  {
   "metadata": {},
   "cell_type": "markdown",
   "source": "###  Unpacking in Loops",
   "id": "714c351c2d73e374"
  },
  {
   "metadata": {
    "ExecuteTime": {
     "end_time": "2025-05-07T10:03:29.010521Z",
     "start_time": "2025-05-07T10:03:29.004745Z"
    }
   },
   "cell_type": "code",
   "source": [
    "coords = [(1, 2), (3, 4), (5, 6)]\n",
    "\n",
    "for x, y in coords:\n",
    "    print(f\"x: {x}, y: {y}\")\n"
   ],
   "id": "bb371496d064dd1e",
   "outputs": [
    {
     "name": "stdout",
     "output_type": "stream",
     "text": [
      "x: 1, y: 2\n",
      "x: 3, y: 4\n",
      "x: 5, y: 6\n"
     ]
    }
   ],
   "execution_count": 34
  },
  {
   "metadata": {},
   "cell_type": "markdown",
   "source": "### Inline Conditional",
   "id": "3a3a22799a8d9e41"
  },
  {
   "metadata": {
    "ExecuteTime": {
     "end_time": "2025-05-07T10:03:29.093600Z",
     "start_time": "2025-05-07T10:03:29.088238Z"
    }
   },
   "cell_type": "code",
   "source": [
    "x = 5\n",
    "result = \"greater\" if x > 10 else \"smaller\"\n",
    "print(result)"
   ],
   "id": "2b400e944e53cbb",
   "outputs": [
    {
     "name": "stdout",
     "output_type": "stream",
     "text": [
      "smaller\n"
     ]
    }
   ],
   "execution_count": 35
  },
  {
   "metadata": {},
   "cell_type": "markdown",
   "source": "### Chained Assignment",
   "id": "6870ebd8239d37a0"
  },
  {
   "metadata": {
    "ExecuteTime": {
     "end_time": "2025-05-07T10:03:29.176643Z",
     "start_time": "2025-05-07T10:03:29.162280Z"
    }
   },
   "cell_type": "code",
   "source": [
    "x = y = z = 0\n",
    "print(x, y, z)"
   ],
   "id": "9a9b393d6e60f9a0",
   "outputs": [
    {
     "name": "stdout",
     "output_type": "stream",
     "text": [
      "0 0 0\n"
     ]
    }
   ],
   "execution_count": 36
  },
  {
   "metadata": {},
   "cell_type": "markdown",
   "source": "###  Walrus Operator",
   "id": "e136632fe1853a6a"
  },
  {
   "metadata": {
    "ExecuteTime": {
     "end_time": "2025-05-07T10:04:49.902968Z",
     "start_time": "2025-05-07T10:04:44.854823Z"
    }
   },
   "cell_type": "code",
   "source": [
    "while (line := input()) != \"exit\":\n",
    "    print(f\"You entered: {line}\")"
   ],
   "id": "5ee53ed07d5689e4",
   "outputs": [
    {
     "name": "stdout",
     "output_type": "stream",
     "text": [
      "You entered: 5\n"
     ]
    },
    {
     "ename": "KeyboardInterrupt",
     "evalue": "Interrupted by user",
     "output_type": "error",
     "traceback": [
      "\u001B[31m---------------------------------------------------------------------------\u001B[39m",
      "\u001B[31mKeyboardInterrupt\u001B[39m                         Traceback (most recent call last)",
      "\u001B[36mCell\u001B[39m\u001B[36m \u001B[39m\u001B[32mIn[39]\u001B[39m\u001B[32m, line 1\u001B[39m\n\u001B[32m----> \u001B[39m\u001B[32m1\u001B[39m \u001B[38;5;28;01mwhile\u001B[39;00m (line := \u001B[38;5;28;43minput\u001B[39;49m\u001B[43m(\u001B[49m\u001B[43m)\u001B[49m) != \u001B[33m\"\u001B[39m\u001B[33mexit\u001B[39m\u001B[33m\"\u001B[39m:\n\u001B[32m      2\u001B[39m     \u001B[38;5;28mprint\u001B[39m(\u001B[33mf\u001B[39m\u001B[33m\"\u001B[39m\u001B[33mYou entered: \u001B[39m\u001B[38;5;132;01m{\u001B[39;00mline\u001B[38;5;132;01m}\u001B[39;00m\u001B[33m\"\u001B[39m)\n",
      "\u001B[36mFile \u001B[39m\u001B[32m~/PyCharmMiscProject/.venv/lib/python3.11/site-packages/ipykernel/kernelbase.py:1282\u001B[39m, in \u001B[36mKernel.raw_input\u001B[39m\u001B[34m(self, prompt)\u001B[39m\n\u001B[32m   1280\u001B[39m     msg = \u001B[33m\"\u001B[39m\u001B[33mraw_input was called, but this frontend does not support input requests.\u001B[39m\u001B[33m\"\u001B[39m\n\u001B[32m   1281\u001B[39m     \u001B[38;5;28;01mraise\u001B[39;00m StdinNotImplementedError(msg)\n\u001B[32m-> \u001B[39m\u001B[32m1282\u001B[39m \u001B[38;5;28;01mreturn\u001B[39;00m \u001B[38;5;28;43mself\u001B[39;49m\u001B[43m.\u001B[49m\u001B[43m_input_request\u001B[49m\u001B[43m(\u001B[49m\n\u001B[32m   1283\u001B[39m \u001B[43m    \u001B[49m\u001B[38;5;28;43mstr\u001B[39;49m\u001B[43m(\u001B[49m\u001B[43mprompt\u001B[49m\u001B[43m)\u001B[49m\u001B[43m,\u001B[49m\n\u001B[32m   1284\u001B[39m \u001B[43m    \u001B[49m\u001B[38;5;28;43mself\u001B[39;49m\u001B[43m.\u001B[49m\u001B[43m_parent_ident\u001B[49m\u001B[43m[\u001B[49m\u001B[33;43m\"\u001B[39;49m\u001B[33;43mshell\u001B[39;49m\u001B[33;43m\"\u001B[39;49m\u001B[43m]\u001B[49m\u001B[43m,\u001B[49m\n\u001B[32m   1285\u001B[39m \u001B[43m    \u001B[49m\u001B[38;5;28;43mself\u001B[39;49m\u001B[43m.\u001B[49m\u001B[43mget_parent\u001B[49m\u001B[43m(\u001B[49m\u001B[33;43m\"\u001B[39;49m\u001B[33;43mshell\u001B[39;49m\u001B[33;43m\"\u001B[39;49m\u001B[43m)\u001B[49m\u001B[43m,\u001B[49m\n\u001B[32m   1286\u001B[39m \u001B[43m    \u001B[49m\u001B[43mpassword\u001B[49m\u001B[43m=\u001B[49m\u001B[38;5;28;43;01mFalse\u001B[39;49;00m\u001B[43m,\u001B[49m\n\u001B[32m   1287\u001B[39m \u001B[43m\u001B[49m\u001B[43m)\u001B[49m\n",
      "\u001B[36mFile \u001B[39m\u001B[32m~/PyCharmMiscProject/.venv/lib/python3.11/site-packages/ipykernel/kernelbase.py:1325\u001B[39m, in \u001B[36mKernel._input_request\u001B[39m\u001B[34m(self, prompt, ident, parent, password)\u001B[39m\n\u001B[32m   1322\u001B[39m \u001B[38;5;28;01mexcept\u001B[39;00m \u001B[38;5;167;01mKeyboardInterrupt\u001B[39;00m:\n\u001B[32m   1323\u001B[39m     \u001B[38;5;66;03m# re-raise KeyboardInterrupt, to truncate traceback\u001B[39;00m\n\u001B[32m   1324\u001B[39m     msg = \u001B[33m\"\u001B[39m\u001B[33mInterrupted by user\u001B[39m\u001B[33m\"\u001B[39m\n\u001B[32m-> \u001B[39m\u001B[32m1325\u001B[39m     \u001B[38;5;28;01mraise\u001B[39;00m \u001B[38;5;167;01mKeyboardInterrupt\u001B[39;00m(msg) \u001B[38;5;28;01mfrom\u001B[39;00m\u001B[38;5;250m \u001B[39m\u001B[38;5;28;01mNone\u001B[39;00m\n\u001B[32m   1326\u001B[39m \u001B[38;5;28;01mexcept\u001B[39;00m \u001B[38;5;167;01mException\u001B[39;00m:\n\u001B[32m   1327\u001B[39m     \u001B[38;5;28mself\u001B[39m.log.warning(\u001B[33m\"\u001B[39m\u001B[33mInvalid Message:\u001B[39m\u001B[33m\"\u001B[39m, exc_info=\u001B[38;5;28;01mTrue\u001B[39;00m)\n",
      "\u001B[31mKeyboardInterrupt\u001B[39m: Interrupted by user"
     ]
    }
   ],
   "execution_count": 39
  },
  {
   "metadata": {},
   "cell_type": "markdown",
   "source": "###  Ternary in Function Call",
   "id": "9809dad435722bea"
  },
  {
   "metadata": {
    "ExecuteTime": {
     "end_time": "2025-05-07T10:04:58.624613Z",
     "start_time": "2025-05-07T10:04:58.608520Z"
    }
   },
   "cell_type": "code",
   "source": [
    "flag = True\n",
    "print(\"Yes\" if flag else \"No\")"
   ],
   "id": "7d7d377816a85ae3",
   "outputs": [
    {
     "name": "stdout",
     "output_type": "stream",
     "text": [
      "Yes\n"
     ]
    }
   ],
   "execution_count": 40
  },
  {
   "metadata": {},
   "cell_type": "markdown",
   "source": "### Multiple Unpack",
   "id": "d7cfcec1d414f7db"
  },
  {
   "metadata": {
    "ExecuteTime": {
     "end_time": "2025-05-07T10:05:02.207712Z",
     "start_time": "2025-05-07T10:05:02.191246Z"
    }
   },
   "cell_type": "code",
   "source": [
    "a, b, *rest = [1, 2, 3, 4, 5]\n",
    "print(a, b, rest)"
   ],
   "id": "83a523666d320218",
   "outputs": [
    {
     "name": "stdout",
     "output_type": "stream",
     "text": [
      "1 2 [3, 4, 5]\n"
     ]
    }
   ],
   "execution_count": 41
  },
  {
   "metadata": {},
   "cell_type": "markdown",
   "source": "###  Use or as Fallback",
   "id": "73ca556644b60f28"
  },
  {
   "metadata": {
    "ExecuteTime": {
     "end_time": "2025-05-07T10:05:10.685916Z",
     "start_time": "2025-05-07T10:05:05.648914Z"
    }
   },
   "cell_type": "code",
   "source": [
    "name = input() or \"Anonymous\"\n",
    "print(name)"
   ],
   "id": "e0dc86dd1f354e3c",
   "outputs": [
    {
     "name": "stdout",
     "output_type": "stream",
     "text": [
      "4\n"
     ]
    }
   ],
   "execution_count": 42
  },
  {
   "metadata": {},
   "cell_type": "markdown",
   "source": "### Use and for Guarded Expressions",
   "id": "ca151c6d143cb12c"
  },
  {
   "metadata": {
    "ExecuteTime": {
     "end_time": "2025-05-07T10:05:13.215166Z",
     "start_time": "2025-05-07T10:05:13.197004Z"
    }
   },
   "cell_type": "code",
   "source": [
    "is_admin = True\n",
    "user_id = 42\n",
    "is_admin and print(f\"Deleting user {user_id}\")"
   ],
   "id": "725c0ee03006b6a1",
   "outputs": [
    {
     "name": "stdout",
     "output_type": "stream",
     "text": [
      "Deleting user 42\n"
     ]
    }
   ],
   "execution_count": 43
  },
  {
   "metadata": {},
   "cell_type": "markdown",
   "source": "### Conditional Expressions in Comprehensions",
   "id": "78eded26d1ecf0a9"
  },
  {
   "metadata": {
    "ExecuteTime": {
     "end_time": "2025-05-07T10:05:15.873485Z",
     "start_time": "2025-05-07T10:05:15.860368Z"
    }
   },
   "cell_type": "code",
   "source": [
    "result = ['even' if x % 2 == 0 else 'odd' for x in range(5)]\n",
    "print(result)"
   ],
   "id": "5216f47925966b92",
   "outputs": [
    {
     "name": "stdout",
     "output_type": "stream",
     "text": [
      "['even', 'odd', 'even', 'odd', 'even']\n"
     ]
    }
   ],
   "execution_count": 44
  },
  {
   "metadata": {},
   "cell_type": "markdown",
   "source": "### Basic File Context",
   "id": "ce272df49460fdac"
  },
  {
   "metadata": {
    "ExecuteTime": {
     "end_time": "2025-05-07T10:05:17.417755Z",
     "start_time": "2025-05-07T10:05:17.270062Z"
    }
   },
   "cell_type": "code",
   "source": [
    "with open('example.txt') as f:\n",
    "    contents = f.read()\n",
    "print(contents)"
   ],
   "id": "792a11ad0adfc620",
   "outputs": [
    {
     "ename": "FileNotFoundError",
     "evalue": "[Errno 2] No such file or directory: 'example.txt'",
     "output_type": "error",
     "traceback": [
      "\u001B[31m---------------------------------------------------------------------------\u001B[39m",
      "\u001B[31mFileNotFoundError\u001B[39m                         Traceback (most recent call last)",
      "\u001B[36mCell\u001B[39m\u001B[36m \u001B[39m\u001B[32mIn[45]\u001B[39m\u001B[32m, line 1\u001B[39m\n\u001B[32m----> \u001B[39m\u001B[32m1\u001B[39m \u001B[38;5;28;01mwith\u001B[39;00m \u001B[38;5;28;43mopen\u001B[39;49m\u001B[43m(\u001B[49m\u001B[33;43m'\u001B[39;49m\u001B[33;43mexample.txt\u001B[39;49m\u001B[33;43m'\u001B[39;49m\u001B[43m)\u001B[49m \u001B[38;5;28;01mas\u001B[39;00m f:\n\u001B[32m      2\u001B[39m     contents = f.read()\n\u001B[32m      3\u001B[39m \u001B[38;5;28mprint\u001B[39m(contents)\n",
      "\u001B[36mFile \u001B[39m\u001B[32m~/PyCharmMiscProject/.venv/lib/python3.11/site-packages/IPython/core/interactiveshell.py:326\u001B[39m, in \u001B[36m_modified_open\u001B[39m\u001B[34m(file, *args, **kwargs)\u001B[39m\n\u001B[32m    319\u001B[39m \u001B[38;5;28;01mif\u001B[39;00m file \u001B[38;5;129;01min\u001B[39;00m {\u001B[32m0\u001B[39m, \u001B[32m1\u001B[39m, \u001B[32m2\u001B[39m}:\n\u001B[32m    320\u001B[39m     \u001B[38;5;28;01mraise\u001B[39;00m \u001B[38;5;167;01mValueError\u001B[39;00m(\n\u001B[32m    321\u001B[39m         \u001B[33mf\u001B[39m\u001B[33m\"\u001B[39m\u001B[33mIPython won\u001B[39m\u001B[33m'\u001B[39m\u001B[33mt let you open fd=\u001B[39m\u001B[38;5;132;01m{\u001B[39;00mfile\u001B[38;5;132;01m}\u001B[39;00m\u001B[33m by default \u001B[39m\u001B[33m\"\u001B[39m\n\u001B[32m    322\u001B[39m         \u001B[33m\"\u001B[39m\u001B[33mas it is likely to crash IPython. If you know what you are doing, \u001B[39m\u001B[33m\"\u001B[39m\n\u001B[32m    323\u001B[39m         \u001B[33m\"\u001B[39m\u001B[33myou can use builtins\u001B[39m\u001B[33m'\u001B[39m\u001B[33m open.\u001B[39m\u001B[33m\"\u001B[39m\n\u001B[32m    324\u001B[39m     )\n\u001B[32m--> \u001B[39m\u001B[32m326\u001B[39m \u001B[38;5;28;01mreturn\u001B[39;00m \u001B[43mio_open\u001B[49m\u001B[43m(\u001B[49m\u001B[43mfile\u001B[49m\u001B[43m,\u001B[49m\u001B[43m \u001B[49m\u001B[43m*\u001B[49m\u001B[43margs\u001B[49m\u001B[43m,\u001B[49m\u001B[43m \u001B[49m\u001B[43m*\u001B[49m\u001B[43m*\u001B[49m\u001B[43mkwargs\u001B[49m\u001B[43m)\u001B[49m\n",
      "\u001B[31mFileNotFoundError\u001B[39m: [Errno 2] No such file or directory: 'example.txt'"
     ]
    }
   ],
   "execution_count": 45
  },
  {
   "metadata": {},
   "cell_type": "markdown",
   "source": "###  Multiple Contexts",
   "id": "2e3a08c9f4c7e815"
  },
  {
   "metadata": {
    "ExecuteTime": {
     "end_time": "2025-05-07T10:05:20.614158Z",
     "start_time": "2025-05-07T10:05:20.545152Z"
    }
   },
   "cell_type": "code",
   "source": [
    "with open('file1.txt') as f1, open('file2.txt') as f2:\n",
    "    print(f1.read(), f2.read())"
   ],
   "id": "2112d46b79d01332",
   "outputs": [
    {
     "ename": "FileNotFoundError",
     "evalue": "[Errno 2] No such file or directory: 'file1.txt'",
     "output_type": "error",
     "traceback": [
      "\u001B[31m---------------------------------------------------------------------------\u001B[39m",
      "\u001B[31mFileNotFoundError\u001B[39m                         Traceback (most recent call last)",
      "\u001B[36mCell\u001B[39m\u001B[36m \u001B[39m\u001B[32mIn[46]\u001B[39m\u001B[32m, line 1\u001B[39m\n\u001B[32m----> \u001B[39m\u001B[32m1\u001B[39m \u001B[38;5;28;01mwith\u001B[39;00m \u001B[38;5;28;43mopen\u001B[39;49m\u001B[43m(\u001B[49m\u001B[33;43m'\u001B[39;49m\u001B[33;43mfile1.txt\u001B[39;49m\u001B[33;43m'\u001B[39;49m\u001B[43m)\u001B[49m \u001B[38;5;28;01mas\u001B[39;00m f1, \u001B[38;5;28mopen\u001B[39m(\u001B[33m'\u001B[39m\u001B[33mfile2.txt\u001B[39m\u001B[33m'\u001B[39m) \u001B[38;5;28;01mas\u001B[39;00m f2:\n\u001B[32m      2\u001B[39m     \u001B[38;5;28mprint\u001B[39m(f1.read(), f2.read())\n",
      "\u001B[36mFile \u001B[39m\u001B[32m~/PyCharmMiscProject/.venv/lib/python3.11/site-packages/IPython/core/interactiveshell.py:326\u001B[39m, in \u001B[36m_modified_open\u001B[39m\u001B[34m(file, *args, **kwargs)\u001B[39m\n\u001B[32m    319\u001B[39m \u001B[38;5;28;01mif\u001B[39;00m file \u001B[38;5;129;01min\u001B[39;00m {\u001B[32m0\u001B[39m, \u001B[32m1\u001B[39m, \u001B[32m2\u001B[39m}:\n\u001B[32m    320\u001B[39m     \u001B[38;5;28;01mraise\u001B[39;00m \u001B[38;5;167;01mValueError\u001B[39;00m(\n\u001B[32m    321\u001B[39m         \u001B[33mf\u001B[39m\u001B[33m\"\u001B[39m\u001B[33mIPython won\u001B[39m\u001B[33m'\u001B[39m\u001B[33mt let you open fd=\u001B[39m\u001B[38;5;132;01m{\u001B[39;00mfile\u001B[38;5;132;01m}\u001B[39;00m\u001B[33m by default \u001B[39m\u001B[33m\"\u001B[39m\n\u001B[32m    322\u001B[39m         \u001B[33m\"\u001B[39m\u001B[33mas it is likely to crash IPython. If you know what you are doing, \u001B[39m\u001B[33m\"\u001B[39m\n\u001B[32m    323\u001B[39m         \u001B[33m\"\u001B[39m\u001B[33myou can use builtins\u001B[39m\u001B[33m'\u001B[39m\u001B[33m open.\u001B[39m\u001B[33m\"\u001B[39m\n\u001B[32m    324\u001B[39m     )\n\u001B[32m--> \u001B[39m\u001B[32m326\u001B[39m \u001B[38;5;28;01mreturn\u001B[39;00m \u001B[43mio_open\u001B[49m\u001B[43m(\u001B[49m\u001B[43mfile\u001B[49m\u001B[43m,\u001B[49m\u001B[43m \u001B[49m\u001B[43m*\u001B[49m\u001B[43margs\u001B[49m\u001B[43m,\u001B[49m\u001B[43m \u001B[49m\u001B[43m*\u001B[49m\u001B[43m*\u001B[49m\u001B[43mkwargs\u001B[49m\u001B[43m)\u001B[49m\n",
      "\u001B[31mFileNotFoundError\u001B[39m: [Errno 2] No such file or directory: 'file1.txt'"
     ]
    }
   ],
   "execution_count": 46
  },
  {
   "metadata": {},
   "cell_type": "markdown",
   "source": "### Custom Context Manager",
   "id": "1dde1349e84c814a"
  },
  {
   "metadata": {
    "ExecuteTime": {
     "end_time": "2025-05-07T10:05:24.207656Z",
     "start_time": "2025-05-07T10:05:24.191155Z"
    }
   },
   "cell_type": "code",
   "source": [
    "class LogContext:\n",
    "    def __enter__(self):\n",
    "        print(\"Entering context\")\n",
    "\n",
    "    def __exit__(self, exc_type, exc_val, exc_tb):\n",
    "        print(\"Exiting context\")\n",
    "\n",
    "with LogContext():\n",
    "    print(\"Inside context\")"
   ],
   "id": "f1d9d839ddeb051d",
   "outputs": [
    {
     "name": "stdout",
     "output_type": "stream",
     "text": [
      "Entering context\n",
      "Inside context\n",
      "Exiting context\n"
     ]
    }
   ],
   "execution_count": 47
  },
  {
   "metadata": {},
   "cell_type": "markdown",
   "source": "###  Custom Context Manager",
   "id": "fc2bb497ff249c5c"
  },
  {
   "metadata": {
    "ExecuteTime": {
     "end_time": "2025-05-07T10:05:27.182161Z",
     "start_time": "2025-05-07T10:05:26.170595Z"
    }
   },
   "cell_type": "code",
   "source": [
    "from contextlib import contextmanager\n",
    "import time\n",
    "\n",
    "@contextmanager\n",
    "def timer():\n",
    "    start = time.time()\n",
    "    yield\n",
    "    print(f\"Elapsed: {time.time() - start:.2f}s\")\n",
    "\n",
    "with timer():\n",
    "    time.sleep(1)"
   ],
   "id": "4c60c87d40057fd7",
   "outputs": [
    {
     "name": "stdout",
     "output_type": "stream",
     "text": [
      "Elapsed: 1.00s\n"
     ]
    }
   ],
   "execution_count": 48
  },
  {
   "metadata": {},
   "cell_type": "markdown",
   "source": "###  Suppressing Exceptions",
   "id": "b981a30d01fa6fb"
  },
  {
   "metadata": {
    "ExecuteTime": {
     "end_time": "2025-05-07T10:05:33.156080Z",
     "start_time": "2025-05-07T10:05:33.144821Z"
    }
   },
   "cell_type": "code",
   "source": [
    "from contextlib import suppress\n",
    "\n",
    "with suppress(FileNotFoundError):\n",
    "    with open('missing.txt') as f:\n",
    "        print(f.read())"
   ],
   "id": "fbc9e542d967ab1f",
   "outputs": [],
   "execution_count": 50
  },
  {
   "metadata": {},
   "cell_type": "markdown",
   "source": "### Temporary File\n",
   "id": "3c1dad4333ae1b7f"
  },
  {
   "metadata": {
    "ExecuteTime": {
     "end_time": "2025-05-07T10:05:35.938673Z",
     "start_time": "2025-05-07T10:05:35.925702Z"
    }
   },
   "cell_type": "code",
   "source": [
    "import tempfile\n",
    "\n",
    "with tempfile.TemporaryFile(mode='w+') as tmp:\n",
    "    tmp.write('test data')\n",
    "    tmp.seek(0)\n",
    "    print(tmp.read())"
   ],
   "id": "a368f2fffb6c9ade",
   "outputs": [
    {
     "name": "stdout",
     "output_type": "stream",
     "text": [
      "test data\n"
     ]
    }
   ],
   "execution_count": 51
  },
  {
   "metadata": {},
   "cell_type": "markdown",
   "source": "### Database-style Locking",
   "id": "48bb8167710f5075"
  },
  {
   "metadata": {
    "ExecuteTime": {
     "end_time": "2025-05-07T10:05:37.570507Z",
     "start_time": "2025-05-07T10:05:37.557956Z"
    }
   },
   "cell_type": "code",
   "source": [
    "class DBConnection:\n",
    "    def __enter__(self):\n",
    "        print(\"Opening DB connection\")\n",
    "        return self\n",
    "\n",
    "    def __exit__(self, exc_type, exc_val, exc_tb):\n",
    "        print(\"Closing DB connection\")\n",
    "\n",
    "with DBConnection():\n",
    "    print(\"Using DB connection\")"
   ],
   "id": "385c4c793d1c57c8",
   "outputs": [
    {
     "name": "stdout",
     "output_type": "stream",
     "text": [
      "Opening DB connection\n",
      "Using DB connection\n",
      "Closing DB connection\n"
     ]
    }
   ],
   "execution_count": 52
  },
  {
   "metadata": {},
   "cell_type": "markdown",
   "source": "### Ensure Cleanup",
   "id": "e07ec093cb0ea835"
  },
  {
   "metadata": {
    "ExecuteTime": {
     "end_time": "2025-05-07T10:05:39.598344Z",
     "start_time": "2025-05-07T10:05:39.573234Z"
    }
   },
   "cell_type": "code",
   "source": [
    "class CleanupDemo:\n",
    "    def __enter__(self):\n",
    "        print(\"Resource acquired\")\n",
    "\n",
    "    def __exit__(self, exc_type, exc_val, exc_tb):\n",
    "        print(\"Resource released\")\n",
    "\n",
    "try:\n",
    "    with CleanupDemo():\n",
    "        print(\"Working with resource\")\n",
    "        raise ValueError(\"Error occurred\")\n",
    "except ValueError:\n",
    "    print(\"Caught exception\")"
   ],
   "id": "6bc43548b240e95",
   "outputs": [
    {
     "name": "stdout",
     "output_type": "stream",
     "text": [
      "Resource acquired\n",
      "Working with resource\n",
      "Resource released\n",
      "Caught exception\n"
     ]
    }
   ],
   "execution_count": 53
  }
 ],
 "metadata": {
  "kernelspec": {
   "display_name": "Python 3",
   "language": "python",
   "name": "python3"
  },
  "language_info": {
   "codemirror_mode": {
    "name": "ipython",
    "version": 2
   },
   "file_extension": ".py",
   "mimetype": "text/x-python",
   "name": "python",
   "nbconvert_exporter": "python",
   "pygments_lexer": "ipython2",
   "version": "2.7.6"
  }
 },
 "nbformat": 4,
 "nbformat_minor": 5
}
